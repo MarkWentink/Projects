{
 "cells": [
  {
   "cell_type": "markdown",
   "metadata": {},
   "source": [
    "# Behind the scenes: Accessing webpages with user log-in"
   ]
  },
  {
   "cell_type": "markdown",
   "metadata": {},
   "source": [
    "In the first instance, the aim of this project is to learn how to retrieve an html page that is protected by a user login portal. UPDATE: Got that sorted"
   ]
  },
  {
   "cell_type": "markdown",
   "metadata": {},
   "source": [
    "Eventually, the intention is to access a government database of court cases and to automatically retrieve information on 10k+ court cases based on a list of case numbers."
   ]
  },
  {
   "cell_type": "code",
   "execution_count": 22,
   "metadata": {},
   "outputs": [],
   "source": [
    "import mechanicalsoup\n",
    "import requests\n",
    "import pandas as pd\n",
    "import json"
   ]
  },
  {
   "cell_type": "code",
   "execution_count": 23,
   "metadata": {},
   "outputs": [],
   "source": [
    "# import list of case numbers from csv or wherever\n",
    "queries = ['CL-2014-000636',\n",
    "'CL-2015-000128',\n",
    "'BL-2018-002514',\n",
    "'CR-2019-003497',\n",
    "'LM-2019-000044',\n",
    "'BL-2018-002522',\n",
    "'HC-2017-002130',\n",
    "'HC-2015-004346',\n",
    "'CL-2015-000634',\n",
    "'CL-2018-000709']"
   ]
  },
  {
   "cell_type": "code",
   "execution_count": 26,
   "metadata": {},
   "outputs": [
    {
     "name": "stdout",
     "output_type": "stream",
     "text": [
      "running case:  CL-2014-000636\n",
      "Submitted username and password\n",
      "Case retrieved\n",
      "running case:  CL-2015-000128\n",
      "No login needed\n",
      "Case retrieved\n",
      "running case:  BL-2018-002514\n",
      "No login needed\n",
      "Case retrieved\n",
      "running case:  CR-2019-003497\n",
      "No login needed\n",
      "No records found\n",
      "running case:  LM-2019-000044\n",
      "No login needed\n",
      "case does not exist\n",
      "running case:  BL-2018-002522\n",
      "No login needed\n",
      "No records found\n",
      "running case:  HC-2017-002130\n",
      "No login needed\n",
      "Case retrieved\n",
      "running case:  HC-2015-004346\n",
      "No login needed\n",
      "Case retrieved\n",
      "running case:  CL-2015-000634\n",
      "No login needed\n",
      "Case retrieved\n",
      "running case:  CL-2018-000709\n",
      "No login needed\n",
      "Case retrieved\n"
     ]
    }
   ],
   "source": [
    "cases_out = []\n",
    "username = \"markw@decoded.com\"\n",
    "password = \"ST$RD£Wva11ey\" \n",
    "browser = mechanicalsoup.StatefulBrowser(raise_on_404=True)\n",
    "    \n",
    "for case in queries:\n",
    "    print(\"running case: \", case)\n",
    "    try:\n",
    "        url = \"https://efile.cefile-app.com/officecopies/filing/search?caseNumber=\"+str(case)+\"&formToken=1582146479269\"\n",
    "        browser.open(url)\n",
    "    except:\n",
    "        print(\"Could not open case: \", case)\n",
    "        continue;\n",
    "\n",
    "    # Only seem to need this on the first query, move out of loop\n",
    "    try:\n",
    "        form = browser.select_form('form[id=loginForm]')\n",
    "        form['username'] = username\n",
    "        form['password'] = password\n",
    "        response = browser.submit_selected()\n",
    "        print(\"Submitted username and password\")\n",
    "    except:\n",
    "        #print(\"No login needed\")\n",
    "        response = browser.open(url)\n",
    "    # Submit the form and print the resulting page text\n",
    "    \n",
    "    \n",
    "    # Set up a dataframe to feed case event into\n",
    "    #case_log = pd.DataFrame(columns = [\"Event\", \"Submitted Date\", \"Filed Date\", \"Type\", \"Description\"])\n",
    "    \n",
    "    try:\n",
    "        response.text.split('case number entered')[1]\n",
    "        print('case does not exist')\n",
    "        cases_out.append({\"case_nr\" : case, \"error\" : \"case does not exist or is not available\"})\n",
    "    except:\n",
    "    \n",
    "        try:\n",
    "            response.text.split('<tbody></tbody>')[1]\n",
    "            print('No records found')\n",
    "            #case_log = case_log.append(pd.DataFrame.from_dict({'Event' : ['N/A']}), sort = False)\n",
    "            cases_out.append({\"case_nr\" : case, \"events\" : \"No records found\"})\n",
    "\n",
    "        except:\n",
    "            case_events = []\n",
    "            for table_row in response.text.split(\"Case Event Log\")[1].split('tbody>')[1].split('<tr>')[1:]:\n",
    "                eventNr = table_row.split('<td>')[1][:-5]\n",
    "                subDate = table_row.split('<td>')[2].split('>')[1].split('<')[0]\n",
    "                fileDate = table_row.split('<td>')[3].split('>')[1].split('<')[0]\n",
    "                entryType = table_row.split('<td>')[4][:-5]\n",
    "                description = table_row.split('<td>')[5][:-5]\n",
    "\n",
    "                current_event = {'EventNr': [eventNr], \n",
    "                            'Submitted Date': [subDate], \n",
    "                            'Filed Date': [fileDate], \n",
    "                            'Type' : [entryType],\n",
    "                            'Description' : [description] }\n",
    "\n",
    "                case_events.append(current_event)\n",
    "            print(\"Case retrieved\")\n",
    "\n",
    "            cases_out.append({\"case_nr\" : case, \"events\" : case_events})\n"
   ]
  },
  {
   "cell_type": "code",
   "execution_count": 27,
   "metadata": {},
   "outputs": [],
   "source": [
    "with open('case_event_logs.json', 'w') as fout:\n",
    "    json.dump(cases_out , fout)"
   ]
  }
 ],
 "metadata": {
  "kernelspec": {
   "display_name": "Python 3",
   "language": "python",
   "name": "python3"
  },
  "language_info": {
   "codemirror_mode": {
    "name": "ipython",
    "version": 3
   },
   "file_extension": ".py",
   "mimetype": "text/x-python",
   "name": "python",
   "nbconvert_exporter": "python",
   "pygments_lexer": "ipython3",
   "version": "3.7.4"
  }
 },
 "nbformat": 4,
 "nbformat_minor": 2
}
