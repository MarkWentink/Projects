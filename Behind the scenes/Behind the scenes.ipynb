{
 "cells": [
  {
   "cell_type": "markdown",
   "metadata": {},
   "source": [
    "# Behind the scenes: Accessing webpages with user log-in"
   ]
  },
  {
   "cell_type": "markdown",
   "metadata": {},
   "source": [
    "### Webscraping court case event logs from the government e-filing system"
   ]
  },
  {
   "cell_type": "markdown",
   "metadata": {},
   "source": [
    "UK legal claims are recorded in a public database, on https://efile.cefile-app.com/\n",
    "The retrieval app requires the user sets up an account and logs in with their username and password.\n",
    "Once logged in, the user can request event logs for a specific case number. Retrieval of actual file content is a paid service, but it is free to see what events have occurred in a case. "
   ]
  },
  {
   "cell_type": "markdown",
   "metadata": {},
   "source": [
    "A friend has asked me to retrieve the event logs of 10k+ cases, along with the dates, event types, and descriptions of the logs for each case."
   ]
  },
  {
   "cell_type": "markdown",
   "metadata": {},
   "source": [
    "The input, queries, is a list of desired case numbers. The output, cases_out, is saved to a json file and contains a list of dictionaries, one for each case. A case contains a case nr, and events, which is another list of dictionaries, one for each event storing details of the event."
   ]
  },
  {
   "cell_type": "code",
   "execution_count": 6,
   "metadata": {},
   "outputs": [],
   "source": [
    "# Mechanicalsoup is used navigating html\n",
    "import mechanicalsoup\n",
    "# Requests is used to call webpages and feed them inputs\n",
    "import requests\n",
    "# Pandas for dataframe manipulation - don't think i need anymore\n",
    "#import pandas as pd\n",
    "# json for reading and writing to json files\n",
    "import json"
   ]
  },
  {
   "cell_type": "code",
   "execution_count": 7,
   "metadata": {},
   "outputs": [],
   "source": [
    "# import list of case numbers from csv or wherever\n",
    "queries = ['CL-2014-000636',\n",
    "'CL-2015-000128',\n",
    "'BL-2018-002514',\n",
    "'CR-2019-003497',\n",
    "'LM-2019-000044',\n",
    "'BL-2018-002522',\n",
    "'HC-2017-002130',\n",
    "'HC-2015-004346',\n",
    "'CL-2015-000634',\n",
    "'CL-2018-000709']"
   ]
  },
  {
   "cell_type": "code",
   "execution_count": 8,
   "metadata": {},
   "outputs": [
    {
     "name": "stdout",
     "output_type": "stream",
     "text": [
      "Submitted username and password\n",
      "running case:  CL-2014-000636\n",
      "Case retrieved\n",
      "running case:  CL-2015-000128\n",
      "Case retrieved\n",
      "running case:  BL-2018-002514\n",
      "Case retrieved\n",
      "running case:  CR-2019-003497\n",
      "No records found\n",
      "running case:  LM-2019-000044\n",
      "case does not exist\n",
      "running case:  BL-2018-002522\n",
      "No records found\n",
      "running case:  HC-2017-002130\n",
      "Case retrieved\n",
      "running case:  HC-2015-004346\n",
      "Case retrieved\n",
      "running case:  CL-2015-000634\n",
      "Case retrieved\n",
      "running case:  CL-2018-000709\n",
      "Case retrieved\n"
     ]
    }
   ],
   "source": [
    "# set up our output: a list of dictionaries\n",
    "cases_out = []\n",
    "\n",
    "# Open credentials text file and retrieve username and password from there rather than typing out here. \n",
    "with open('Credentials.txt', 'r') as f:\n",
    "    username, password = f.read().split('\\n')\n",
    "    # Do I need to close the file again?\n",
    "\n",
    "# Instantiate a browser environment    \n",
    "browser = mechanicalsoup.StatefulBrowser(raise_on_404=True)\n",
    "\n",
    "# Firstly, we try and access a random court case to see if we're asked for log-in details.        \n",
    "try:\n",
    "    url = \"https://efile.cefile-app.com/officecopies/filing/search?caseNumber=\"+\"CL-2015-000128\"+\"&formToken=1582146479269\"\n",
    "    response = browser.open(url)\n",
    "    form = browser.select_form('form[id=loginForm]')\n",
    "    form['username'] = username\n",
    "    form['password'] = password\n",
    "    response = browser.submit_selected()\n",
    "    print(\"Submitted username and password\")\n",
    "except:\n",
    "    print(\"No log-in needed\")\n",
    "\n",
    "# Once we're in, we run through our list of cases\n",
    "for case in queries:\n",
    "    print(\"running case: \", case)\n",
    "    # First test if the webpage opens at all:\n",
    "    try:\n",
    "        url = \"https://efile.cefile-app.com/officecopies/filing/search?caseNumber=\"+str(case)+\"&formToken=1582146479269\"\n",
    "        response = browser.open(url)\n",
    "    except:\n",
    "        print(\"Could not open case: \", case)\n",
    "        continue;\n",
    "    \n",
    "    # Then check if the casenumber corresponds to an existing court case:\n",
    "    try:\n",
    "        response.text.split('case number entered')[1]\n",
    "        print('case does not exist')\n",
    "        cases_out.append({\"case_nr\" : case, \"error\" : \"case does not exist or is not available\"})\n",
    "    except:\n",
    "    \n",
    "    # If the case indeed exists, have a look inside. If there are no events listed, report an empty log:\n",
    "        try:\n",
    "            # If there are no events in the log, the table body will be empty and the string of opening and closing tbody tags will exist. \n",
    "            response.text.split('<tbody></tbody>')[1]\n",
    "            print('No records found')\n",
    "            cases_out.append({\"case_nr\" : case, \"events\" : \"No records found\"})\n",
    "     \n",
    "    # If the opening and closing tags are not adjacent, there are events in the log. \n",
    "    # Go through each row of the content table and retrieve info: \n",
    "        except:\n",
    "            case_events = []\n",
    "            for table_row in response.text.split(\"Case Event Log\")[1].split('tbody>')[1].split('<tr>')[1:]:\n",
    "                eventNr = table_row.split('<td>')[1][:-5]\n",
    "                subDate = table_row.split('<td>')[2].split('>')[1].split('<')[0]\n",
    "                fileDate = table_row.split('<td>')[3].split('>')[1].split('<')[0]\n",
    "                entryType = table_row.split('<td>')[4][:-5]\n",
    "                description = table_row.split('<td>')[5][:-5]\n",
    "            \n",
    "    # Save the retrieved event in a dictionary:\n",
    "                current_event = {'EventNr': [eventNr], \n",
    "                            'Submitted Date': [subDate], \n",
    "                            'Filed Date': [fileDate], \n",
    "                            'Type' : [entryType],\n",
    "                            'Description' : [description] }\n",
    "    # Append the single event to the other events for this case:\n",
    "                case_events.append(current_event)\n",
    "            print(\"Case retrieved\")\n",
    "    # Append the completed case search to the list of cases:\n",
    "            cases_out.append({\"case_nr\" : case, \"events\" : case_events})\n"
   ]
  },
  {
   "cell_type": "code",
   "execution_count": 9,
   "metadata": {},
   "outputs": [],
   "source": [
    "# Export our list of cases into a json file\n",
    "with open('case_event_logs.json', 'w') as fout:\n",
    "    json.dump(cases_out , fout)"
   ]
  },
  {
   "cell_type": "code",
   "execution_count": null,
   "metadata": {},
   "outputs": [],
   "source": []
  }
 ],
 "metadata": {
  "kernelspec": {
   "display_name": "Python 3",
   "language": "python",
   "name": "python3"
  },
  "language_info": {
   "codemirror_mode": {
    "name": "ipython",
    "version": 3
   },
   "file_extension": ".py",
   "mimetype": "text/x-python",
   "name": "python",
   "nbconvert_exporter": "python",
   "pygments_lexer": "ipython3",
   "version": "3.7.4"
  }
 },
 "nbformat": 4,
 "nbformat_minor": 2
}
