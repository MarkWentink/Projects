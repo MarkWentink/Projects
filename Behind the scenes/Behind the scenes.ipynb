{
 "cells": [
  {
   "cell_type": "markdown",
   "metadata": {},
   "source": [
    "# Behind the scenes: Accessing webpages with user log-in"
   ]
  },
  {
   "cell_type": "markdown",
   "metadata": {},
   "source": [
    "In the first instance, the aim of this project is to learn how to retrieve an html page that is protected by a user login portal. UPDATE: Got that sorted"
   ]
  },
  {
   "cell_type": "markdown",
   "metadata": {},
   "source": [
    "Eventually, the intention is to access a government database of court cases and to automatically retrieve information on 10k+ court cases based on a list of case numbers."
   ]
  },
  {
   "cell_type": "code",
   "execution_count": 22,
   "metadata": {},
   "outputs": [],
   "source": [
    "import mechanicalsoup\n",
    "import requests\n",
    "import pandas as pd\n",
    "import json"
   ]
  },
  {
   "cell_type": "code",
   "execution_count": 23,
   "metadata": {},
   "outputs": [],
   "source": [
    "# import list of case numbers from csv or wherever\n",
    "queries = ['CL-2014-000636',\n",
    "'CL-2015-000128',\n",
    "'BL-2018-002514',\n",
    "'CR-2019-003497',\n",
    "'LM-2019-000044',\n",
    "'BL-2018-002522',\n",
    "'HC-2017-002130',\n",
    "'HC-2015-004346',\n",
    "'CL-2015-000634',\n",
    "'CL-2018-000709']"
   ]
  },
  {
   "cell_type": "code",
   "execution_count": 26,
   "metadata": {},
   "outputs": [
    {
     "name": "stdout",
     "output_type": "stream",
     "text": [
      "running case:  CL-2014-000636\n",
      "Submitted username and password\n",
      "Case retrieved\n",
      "running case:  CL-2015-000128\n",
      "No login needed\n",
      "Case retrieved\n",
      "running case:  BL-2018-002514\n",
      "No login needed\n",
      "Case retrieved\n",
      "running case:  CR-2019-003497\n",
      "No login needed\n",
      "No records found\n",
      "running case:  LM-2019-000044\n",
      "No login needed\n",
      "case does not exist\n",
      "running case:  BL-2018-002522\n",
      "No login needed\n",
      "No records found\n",
      "running case:  HC-2017-002130\n",
      "No login needed\n",
      "Case retrieved\n",
      "running case:  HC-2015-004346\n",
      "No login needed\n",
      "Case retrieved\n",
      "running case:  CL-2015-000634\n",
      "No login needed\n",
      "Case retrieved\n",
      "running case:  CL-2018-000709\n",
      "No login needed\n",
      "Case retrieved\n"
     ]
    }
   ],
   "source": [
    "cases_out = []\n",
    "username = \"markw@decoded.com\"\n",
    "password = \"ST$RD£Wva11ey\" \n",
    "browser = mechanicalsoup.StatefulBrowser(raise_on_404=True)\n",
    "    \n",
    "for case in queries:\n",
    "    print(\"running case: \", case)\n",
    "    try:\n",
    "        url = \"https://efile.cefile-app.com/officecopies/filing/search?caseNumber=\"+str(case)+\"&formToken=1582146479269\"\n",
    "        browser.open(url)\n",
    "    except:\n",
    "        print(\"Could not open case: \", case)\n",
    "        continue;\n",
    "\n",
    "    # Only seem to need this on the first query, move out of loop\n",
    "    try:\n",
    "        form = browser.select_form('form[id=loginForm]')\n",
    "        form['username'] = username\n",
    "        form['password'] = password\n",
    "        response = browser.submit_selected()\n",
    "        print(\"Submitted username and password\")\n",
    "    except:\n",
    "        #print(\"No login needed\")\n",
    "        response = browser.open(url)\n",
    "    # Submit the form and print the resulting page text\n",
    "    \n",
    "    \n",
    "    # Set up a dataframe to feed case event into\n",
    "    #case_log = pd.DataFrame(columns = [\"Event\", \"Submitted Date\", \"Filed Date\", \"Type\", \"Description\"])\n",
    "    \n",
    "    try:\n",
    "        response.text.split('case number entered')[1]\n",
    "        print('case does not exist')\n",
    "        cases_out.append({\"case_nr\" : case, \"error\" : \"case does not exist or is not available\"})\n",
    "    except:\n",
    "    \n",
    "        try:\n",
    "            response.text.split('<tbody></tbody>')[1]\n",
    "            print('No records found')\n",
    "            #case_log = case_log.append(pd.DataFrame.from_dict({'Event' : ['N/A']}), sort = False)\n",
    "            cases_out.append({\"case_nr\" : case, \"events\" : \"No records found\"})\n",
    "\n",
    "        except:\n",
    "            case_events = []\n",
    "            for table_row in response.text.split(\"Case Event Log\")[1].split('tbody>')[1].split('<tr>')[1:]:\n",
    "                eventNr = table_row.split('<td>')[1][:-5]\n",
    "                subDate = table_row.split('<td>')[2].split('>')[1].split('<')[0]\n",
    "                fileDate = table_row.split('<td>')[3].split('>')[1].split('<')[0]\n",
    "                entryType = table_row.split('<td>')[4][:-5]\n",
    "                description = table_row.split('<td>')[5][:-5]\n",
    "\n",
    "                current_event = {'EventNr': [eventNr], \n",
    "                            'Submitted Date': [subDate], \n",
    "                            'Filed Date': [fileDate], \n",
    "                            'Type' : [entryType],\n",
    "                            'Description' : [description] }\n",
    "\n",
    "                case_events.append(current_event)\n",
    "            print(\"Case retrieved\")\n",
    "\n",
    "            cases_out.append({\"case_nr\" : case, \"events\" : case_events})\n"
   ]
  },
  {
   "cell_type": "code",
   "execution_count": 27,
   "metadata": {},
   "outputs": [],
   "source": [
    "with open('case_event_logs.json', 'w') as fout:\n",
    "    json.dump(cases_out , fout)"
   ]
  },
  {
   "cell_type": "code",
   "execution_count": null,
   "metadata": {},
   "outputs": [],
   "source": []
  },
  {
   "cell_type": "markdown",
   "metadata": {},
   "source": [
    "# Explore how storing in json would work"
   ]
  },
  {
   "cell_type": "code",
   "execution_count": null,
   "metadata": {},
   "outputs": [],
   "source": []
  },
  {
   "cell_type": "code",
   "execution_count": null,
   "metadata": {},
   "outputs": [],
   "source": []
  },
  {
   "cell_type": "code",
   "execution_count": null,
   "metadata": {},
   "outputs": [],
   "source": []
  },
  {
   "cell_type": "code",
   "execution_count": null,
   "metadata": {},
   "outputs": [],
   "source": []
  },
  {
   "cell_type": "code",
   "execution_count": null,
   "metadata": {},
   "outputs": [],
   "source": []
  },
  {
   "cell_type": "code",
   "execution_count": 20,
   "metadata": {},
   "outputs": [
    {
     "name": "stdout",
     "output_type": "stream",
     "text": [
      "No login needed\n"
     ]
    }
   ],
   "source": [
    "try:\n",
    "    url = \"https://efile.cefile-app.com/officecopies/filing/search?caseNumber=\"+\"CR-2019-003497\"+\"&formToken=1582146479269\"\n",
    "    browser.open(url)\n",
    "except:\n",
    "    print(\"Could not open case: \", case)\n",
    "\n",
    "# Only seem to need this on the first query, move out of loop\n",
    "try:\n",
    "    form = browser.select_form('form[id=loginForm]')\n",
    "    form['username'] = username\n",
    "    form['password'] = password\n",
    "    response = browser.submit_selected()\n",
    "    print(\"Submitted username and password\")\n",
    "except:\n",
    "    print(\"No login needed\")\n",
    "    response = browser.open(url)\n",
    "# Submit the form and print the resulting page text\n",
    "\n",
    "\n",
    "# Set up a dataframe to feed case event into\n",
    "#case_log = pd.DataFrame(columns = [\"Event\", \"Submitted Date\", \"Filed Date\", \"Type\", \"Description\"])\n",
    "\n",
    "\n"
   ]
  },
  {
   "cell_type": "code",
   "execution_count": 21,
   "metadata": {},
   "outputs": [
    {
     "data": {
      "text/plain": [
       "'<!DOCTYPE HTML PUBLIC \"-//W3C//DTD HTML 4.01//EN\" \"http://www.w3.org/TR/html4/strict.dtd\">\\r\\n<html lang=\"\" xml:lang=\"\">\\r\\n<head>\\r\\n\\t<meta http-equiv=\"X-UA-Compatible\" content=\"IE=edge\">\\r\\n<meta http-equiv=\"content-type\" content=\"text/html; charset=utf-8\">\\r\\n\\r\\n<link rel=\"shortcut icon\" href=\"/include/images/favicon.ico\" type=\"image/x-icon\"/>\\r\\n<link rel=\"icon\" href=\"/include/images/favicon.ico\" type=\"image/x-icon\"/>\\r\\n\\r\\n<link rel=\"apple-touch-icon\" sizes=\"57x57\" href=\"/include/images/iOS/57.png\"/>\\r\\n<link rel=\"apple-touch-icon\" sizes=\"72x72\" href=\"/include/images/iOS/72.png\"/>\\r\\n<link rel=\"apple-touch-icon\" sizes=\"114x114\" href=\"/include/images/iOS/114.png\"/>\\r\\n<link rel=\"apple-touch-icon\" sizes=\"144x144\" href=\"/include/images/iOS/144.png\"/>\\r\\n\\r\\n<link rel=\"stylesheet\" type=\"text/css\" href=\"/include/css/normalize.css\" media=\"all\">\\r\\n<link rel=\"stylesheet\" type=\"text/css\" href=\"/include/css/superfish-1.4.8.css\" media=\"all\">\\r\\n<link rel=\"stylesheet\" type=\"text/css\" href=\"/include/css/superfish-vertical-1.4.8.css\" media=\"all\">\\r\\n<link rel=\"stylesheet\" type=\"text/css\" href=\"/include/css/jquery-ui-1.8.2.custom.css\" media=\"all\">\\r\\n<link rel=\"stylesheet\" type=\"text/css\" href=\"/include/css/jquery.qtip.css\" media=\"all\">\\r\\n<link rel=\"stylesheet\" type=\"text/css\" href=\"/include/css/select2.css\" media=\"all\">\\r\\n<link rel=\"stylesheet\" type=\"text/css\" href=\"/include/css/fonts.css\" media=\"all\">\\r\\n<link rel=\"stylesheet\" type=\"text/css\" href=\"/include/css/font-awesome.css\" media=\"all\">\\r\\n<link rel=\"stylesheet\" type=\"text/css\" href=\"/include/css/style.css\" media=\"all\">\\r\\n<script src=\"/include/js/jquery.js\" type=\"text/javascript\"></script>\\r\\n<script src=\"/include/js/jquery-migrate.js\" type=\"text/javascript\"></script>\\r\\n<script src=\"/include/js/jquery-ui.js\" type=\"text/javascript\"></script>\\r\\n<script src=\"/include/js/superfish.js\" type=\"text/javascript\"></script>\\r\\n<script src=\"/include/js/hoverIntent.modified.js\" type=\"text/javascript\"></script>\\r\\n<script src=\"/include/js/jquery.tablesorter.modified.js\" type=\"text/javascript\"></script>\\r\\n<script src=\"/include/js/jquery.metadata.js\" type=\"text/javascript\"></script>\\r\\n<script src=\"/include/js/jquery.blockUI.js\" type=\"text/javascript\"></script>\\r\\n<script src=\"/include/js/jquery.qtip.js\" type=\"text/javascript\"></script>\\r\\n<script src=\"/include/js/jquery.cookie.js\" type=\"text/javascript\"></script>\\r\\n<script src=\"/include/js/jquery.contextMenu.js\" type=\"text/javascript\"></script>\\r\\n<script src=\"/include/js/spin.js\" type=\"text/javascript\"></script>\\r\\n<script src=\"/include/js/select2.js\" type=\"text/javascript\"></script>\\r\\n<script src=\"/include/js/tag.js\" type=\"text/javascript\"></script>\\r\\n<script src=\"/include/js/base.js\" type=\"text/javascript\"></script>\\r\\n<script src=\"/include/js/efile.js\" type=\"text/javascript\"></script>\\r\\n<script src=\"/include/js/user.js\" type=\"text/javascript\"></script>\\r\\n<script src=\"/include/js/sockjs.min.js\" type=\"text/javascript\"></script>\\r\\n<script src=\"/include/js/stomp.js\" type=\"text/javascript\"></script>\\r\\n<script src=\"/include/js/notification.js\" type=\"text/javascript\"></script>\\r\\n<script src=\"/include/js/banner.js\" type=\"text/javascript\"></script>\\r\\n<script src=\"/include/js/jquery.history.js\" type=\"text/javascript\"></script>\\r\\n<script src=\"/include/js/custom.js\" type=\"text/javascript\"></script>\\r\\n<script src=\"/include/js/publicsearch/custom.js\" type=\"text/javascript\"></script><title>\\r\\n\\t\\tE-Filing -&nbsp;Office Copies&nbsp;</title>\\r\\n</head>\\r\\n<body data-csrftoken=\"k7UPa8hTBcTwBwAmMKrVl9kZWSGUwkBN\"><script type=\"text/javascript\">\\r\\n\\tvar requestMethod = \\'GET\\';\\r\\n\\tconnectWebSocket();\\r\\n</script>\\r\\n<table width=\"100%\" id=\"mainLayoutTable\">\\r\\n\\t<tbody>\\r\\n\\t\\t<tr>\\r\\n\\t\\t\\t<td valign=\"top\" id=\"leftNavCell\">\\r\\n\\t\\t\\t\\t\\t<div id=\"leftNav\" style=\"display:none\">\\r\\n\\t\\t\\t\\t\\t\\t<ul class=\"sf-menu sf-vertical\"><li><a class=\"top\" href=\"/case/search\" id=\"menuItem-90009-0-main\">Case Search</a></li><li><a href=\"/filing/new\" id=\"menuItem-90000-0-main\">Create Filing</a></li><li><a href=\"#\" id=\"menuItem-90001-0-main\">Filings</a><ul><li><a class=\"top\" href=\"/batchdocument/draft\" id=\"menuItem-90002-0-sub\">Draft (0)</a></li><li><a href=\"/batchdocument/submitted\" id=\"menuItem-90003-0-sub\">Submitted (0)</a></li><li><a href=\"/batchdocument/rejected\" id=\"menuItem-90004-0-sub\">Rejected (0)</a></li><li><a href=\"/batchdocument/approved\" id=\"menuItem-90005-0-sub\">Approved (0)</a></li><li><a class=\"bottom\" href=\"/batchdocument/error\" id=\"menuItem-90006-0-sub\">Error (0)</a></li></ul></li><li><a href=\"/publicsearch/home\" id=\"menuItem-2000000-0-main\">Public Search</a><ul><li><a class=\"top bottom\" href=\"/publicsearch/case/search\" id=\"menuItem-2000001-0-sub\">Public Case Search</a></li></ul></li><li><a class=\"bottom\" href=\"/officecopies/request/view\" id=\"menuItem-2000002-0-main\">Create Office Copy Request</a></li></ul></div>\\r\\n\\t\\t\\t\\t\\t\\r\\n\\t\\t\\t\\t\\t<script type=\"text/javascript\">\\r\\n\\t\\t\\t\\t\\t\\tmenuConfig();\\r\\n\\t\\t\\t\\t\\t\\t$(\\'#leftNav\\').show();\\r\\n\\t\\t\\t\\t\\t</script>\\r\\n\\t\\t\\t\\t</td>\\r\\n\\t\\t\\t<td valign=\"top\" style=\"padding:0px\">\\r\\n\\t\\t\\t\\t<div class=\"banner\">\\r\\n\\t<table>\\r\\n\\t\\t<tbody>\\r\\n\\t\\t\\t<tr>\\r\\n\\t\\t\\t\\t<td class=\"banner-title\">\\r\\n\\t\\t\\t\\t\\t<div class=\"banner-text\" onClick=\"$.redirect(\\'/home\\')\">\\r\\n\\tHM Courts &amp; Tribunals E-Filing Service</div> </td>\\r\\n\\t\\t\\t\\t<td id=\"user-actions\" class=\"banner-button banner-dropdown-cell\">\\r\\n\\t\\t\\t\\t\\t\\t<div id=\"user-actions-container\">\\r\\n\\t\\t\\t\\t\\t\\t\\t<table>\\r\\n\\t\\t\\t\\t\\t\\t\\t\\t<tr>\\r\\n\\t\\t\\t\\t\\t\\t\\t\\t\\t<td>\\r\\n\\t\\t\\t\\t\\t\\t\\t\\t\\t\\t<div>Mark Wentink</div>\\r\\n\\t\\t\\t\\t\\t\\t\\t\\t\\t\\t<div class=\"user-legalOrganization\"></div>\\r\\n\\t\\t\\t\\t\\t\\t\\t\\t\\t</td>\\r\\n\\t\\t\\t\\t\\t\\t\\t\\t\\t<td>\\r\\n\\t\\t\\t\\t\\t\\t\\t\\t\\t<a class=\"ct-hyperlink\" href=\"#\">\\r\\n\\t\\t\\t\\t\\t                       <span class=\"sr-only\">User Link</span>\\r\\n\\t\\t\\t\\t\\t\\t\\t\\t\\t\\t<span class=\"ct-icon ct-iconDownArrow\" title=\"Account Options\"></span></a>\\r\\n\\t\\t\\t\\t\\t\\t\\t\\t\\t</td>\\r\\n\\t\\t\\t\\t\\t\\t\\t\\t</tr>\\r\\n\\t\\t\\t\\t\\t\\t\\t</table>\\r\\n\\t\\t\\t\\t\\t\\t</div>\\r\\n\\t\\t\\t\\t\\t</td>\\r\\n\\t\\t\\t\\t\\t<td id=\"banner-icon-container\">\\r\\n\\t\\t\\t\\t\\t\\t\\t<div id=\"banner-icon-tray\">\\r\\n\\t<div id=\"notifications\" class=\"banner-button empty\" style=\"width:30px\" title=\"Notifications\">\\n  <a class=\"ct-hyperlink\" href=\"#\">\\n\\t<span class=\"sr-only\">Notification Link</span>\\n\\t<span class=\"ct-icon banner-icon empty ct-iconComment\" id=\"notifications-icon\" style=\"padding-right: 10px;\" title=\"\"></span></a>\\n</div><div id=\"cart\" class=\"banner-button empty\" style=\"width:30px\" title=\"Basket\">\\n  <a class=\"ct-hyperlink\" href=\"#\">\\n\\t<span class=\"sr-only\">Cart Link</span>\\n\\t<span class=\"ct-icon banner-icon empty ct-iconCart\" id=\"cart-icon\" style=\"padding-right: 10px;\" title=\"\"></span></a>\\n</div></div>\\r\\n</td>\\r\\n\\t\\t\\t\\t\\t<td id=\"shortcuts\" style=\"padding:0\">\\r\\n\\t\\t\\t\\t\\t\\t&nbsp;\\r\\n\\t\\t\\t\\t\\t\\t<div id=\"shortcutsContent\" style=\"display:none\">\\r\\n\\t\\t\\t\\t\\t\\t\\t<div style=\"width:128px\">\\r\\n\\t<table width=\"100%\">\\r\\n\\t\\t<colgroup>\\r\\n\\t\\t\\t<col width=\"85%\"/>\\r\\n\\t\\t\\t<col width=\"15%\"/>\\r\\n\\t\\t</colgroup>\\r\\n\\t\\t<tr>\\r\\n\\t\\t\\t<td><a class=\"ct-hyperlink\" href=\"#\" onclick=\"exitShortcutMode(myAccountShortcut); return false;\">My Account</a></td>\\r\\n\\t\\t\\t<td class=\"ct-content-small\"><b>A<b></td>\\r\\n\\t\\t</tr>\\r\\n\\r\\n\\t\\t<tr>\\r\\n\\t\\t\\t<td><a class=\"ct-hyperlink\" href=\"#\" onclick=\"exitShortcutMode(mySubscriptionsShortcut); return false;\">My Subscriptions</a></td>\\r\\n\\t\\t\\t<td class=\"ct-content-small\"><b>S<b></td>\\r\\n\\t\\t</tr>\\r\\n\\t\\t\\r\\n\\t\\t<tr>\\r\\n\\t\\t\\t<td><a class=\"ct-hyperlink\" href=\"#\" onclick=\"exitShortcutMode(logoutShortcut); return false;\">Logout</a></td>\\r\\n\\t\\t\\t<td class=\"ct-content-small\"><b>L</b></td>\\r\\n\\t\\t</tr>\\r\\n\\t\\t\\r\\n\\t</table>\\r\\n</div>\\r\\n</div>\\r\\n\\t\\t\\t\\t\\t</td>\\r\\n\\t\\t\\t\\t</tr>\\r\\n\\t\\t</tbody>\\r\\n\\t</table>\\r\\n</div>\\r\\n\\r\\n<script type=\"text/javascript\">\\r\\n\\tvar allowBannerIconTrayUpdates = true;\\r\\n</script>\\r\\n\\r\\n<div id=\"user-actions-dropdown\" class=\"banner-dropdown\">\\r\\n\\t<div id=\"user-actions-dropdown-title\" class=\"banner-dropdown-title\">\\r\\n\\t\\tUser Account</div>\\r\\n\\t<div id=\"user-actions-dropdown-content\" class=\"banner-dropdown-content\">\\r\\n\\t\\t<table style=\"width:100%;\">\\r\\n\\t\\t\\t<tbody>\\r\\n\\t\\t\\t\\t<tr>\\r\\n\\t\\t\\t\\t\\t<td><a class=\"ct-hyperlink\" href=\"#\" onclick=\"executeUserAction(myAccountShortcut); return false;\">My Account</a></td>\\r\\n\\t\\t\\t\\t\\t<td class=\"ct-content-small\" style=\"text-align:right;\">Ctrl + \\\\ , A</td>\\r\\n\\t\\t\\t\\t</tr>\\r\\n\\t\\t\\t\\t<tr>\\r\\n\\t\\t\\t\\t\\t<td><a class=\"ct-hyperlink\" href=\"#\" onclick=\"executeUserAction(logoutShortcut); return false;\">Logout</a></td>\\r\\n\\t\\t\\t\\t\\t<td class=\"ct-content-small\" style=\"text-align:right;\">Ctrl + \\\\ , L</td>\\r\\n\\t\\t\\t\\t</tr>\\r\\n\\t\\t\\t\\t</tbody>\\r\\n\\t\\t</table>\\r\\n\\t</div>\\r\\n\\t<div id=\"user-actions-dropdown-footer\" class=\"banner-dropdown-footer\">\\r\\n\\r\\n\\t</div>\\r\\n</div><div class=\"notificationContainer\">\\n\\n\\t</div>\\n<div id=\"mainContent\"><div id=\"officeCopiesCaseDetailsTable\" tabindex=\"0\"><div class=\"ct-resultsTableHeader\"><div class=\"ct-resultsTableHeader-title\">Case Details</div></div><table cellspacing=\"0\" class=\"ct-resultsTable\" data-keyboardnavigation=\"true\"><tr><th class=\"ct-sortable\" width=\"100%\"><span>Case number</span></th></tr><tr><td>CR-2019-003497</td></tr></table><div class=\"ct-resultsTableFooter\" style=\"display:none\"><div class=\"ct-resultsTableFooter-pagingStatus\">No records were found.</div><div style=\"clear:both;\"></div></div><script type=\"text/javascript\">var $table = $(\\'#officeCopiesCaseDetailsTable\\'); \\n\\n$(\\'#officeCopiesCaseDetailsTable table.ct-resultsTable\\').tablesorter({cssAsc: \\'ct-sortedDesc\\',cssDesc: \\'ct-sortedAsc\\',dateFormat: \\'uk\\',sortMultiSortKey: \\'ctrlKey\\',widgets: [\\'iconWidget\\']}); \\n</script></div><div id=\"docketSheetTable\" tabindex=\"0\"><div class=\"ct-resultsTableHeader\"><div class=\"ct-resultsTableHeader-title\">Case Event Log</div></div><table cellspacing=\"0\" class=\"ct-resultsTable\" data-keyboardnavigation=\"true\"><thead><tr><th width=\"10%\"><span>Event Id</span></th><th class=\"ct-sortable\" onclick=\"sortTable(&#39;/publicsearch/case/instance/docketentry/page?caseInstanceID=219991&#39;,&#39;docketSheetTable&#39;,&#39;docketSheetFormID&#39;,&#39;docketEntryPagingContext&#39;,&#39;sort.docketEntry.submittedDate&#39;,true,event[&#39;ctrlKey&#39;]);\" width=\"11%\"><span>Submitted Date</span></th><th class=\"ct-sortable ct-sortedDesc\" onclick=\"sortTable(&#39;/publicsearch/case/instance/docketentry/page?caseInstanceID=219991&#39;,&#39;docketSheetTable&#39;,&#39;docketSheetFormID&#39;,&#39;docketEntryPagingContext&#39;,&#39;sort.docketEntry.filedDate&#39;,true,event[&#39;ctrlKey&#39;]);\" width=\"11%\"><span>Filed Date</span><span class=\"ct-icon ct-iconDownArrow\"></span></th><th width=\"24%\"><span>Type</span></th><th width=\"30%\"><span>Description</span></th><th width=\"10%\"><span>Fee</span></th><th width=\"4%\"><span></span></th></tr></thead><tbody></tbody></table><div class=\"ct-resultsTableFooter\"><div class=\"ct-resultsTableFooter-pagingStatus\">No records were found.</div><div class=\"ct-resultsTableFooter-pagingLinks\"></div><div style=\"clear:both;\"></div></div><script type=\"text/javascript\">var $table = $(\\'#docketSheetTable\\'); \\n\\n$(\\'#docketSheetTable\\').bind(\\'page\\', function(event, pageNum){ pageTable(\\'/publicsearch/case/instance/docketentry/page?caseInstanceID=219991\\',\\'docketSheetTable\\',\\'docketSheetFormID\\',\\'docketEntryPagingContext\\',pageNum); });\\n$(function() { saveFormValuesOnLoad(\\'docketSheetFormID\\');});\\nvar pctx = {\"displayRows\":25,\"orderBy\":[{\"ascending\":false,\"sortKey\":\"sort.docketEntry.filedDate\"}],\"overrideResultLimit\":false,\"resultsLimit\":-1,\"startRow\":1,\"totalRows\":0};\\n$(\\'#docketSheetTable\\').data(\\'pagingContext\\', pctx); \\n$(\\'#docketSheetTable\\').data(\\'pagingContextProperty\\', \\'docketEntryPagingContext\\'); \\n$(\\'#docketSheetTable\\').data(\\'historyEnabled\\', true); \\n</script></div><input class=\"officeCopiesRequestParameter\" name=\"item.courtID\" type=\"hidden\" value=\"1000003\"/><input class=\"officeCopiesRequestParameter\" name=\"item.caseNumber\" type=\"hidden\" value=\"CR-2019-003497\"/><table class=\"ct-buttonPanel\"><tr><td class=\"ct-rightButtonGroup\"></td></tr></table><div id=\"footer\">\\r\\n\\t<div style=\"padding:2px 0 0 6px;text-align:center;\">\\r\\n\\t\\t<span class=\"ct-content-small\">C-Track&reg;, developed by Thomson Reuters Court Management Solutions</span>\\r\\n\\t\\t</div>\\r\\n</div>\\r\\n\\r\\n\\r\\n</div>\\r\\n</td>\\r\\n</tr>\\r\\n</tbody>\\r\\n</table>\\r\\n\\r\\n\\r\\n</body>\\r\\n</html>'"
      ]
     },
     "execution_count": 21,
     "metadata": {},
     "output_type": "execute_result"
    }
   ],
   "source": [
    "response.text"
   ]
  },
  {
   "cell_type": "code",
   "execution_count": null,
   "metadata": {},
   "outputs": [],
   "source": []
  }
 ],
 "metadata": {
  "kernelspec": {
   "display_name": "Python 3",
   "language": "python",
   "name": "python3"
  },
  "language_info": {
   "codemirror_mode": {
    "name": "ipython",
    "version": 3
   },
   "file_extension": ".py",
   "mimetype": "text/x-python",
   "name": "python",
   "nbconvert_exporter": "python",
   "pygments_lexer": "ipython3",
   "version": "3.7.4"
  }
 },
 "nbformat": 4,
 "nbformat_minor": 2
}
